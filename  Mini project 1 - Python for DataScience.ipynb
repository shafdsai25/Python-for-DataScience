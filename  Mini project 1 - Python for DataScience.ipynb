{
 "cells": [
  {
   "cell_type": "markdown",
   "metadata": {
    "id": "H-T3rXcWRbF7"
   },
   "source": [
    "<table align=\"center\" width=100%>\n",
    "    <tr>\n",
    "       <td>\n",
    "            <div align=\"center\">\n",
    "                <font color=\"#21618C\" size=8px>\n",
    "                    <b> MINI PROJECT 1<br>\n",
    "                    </b>\n",
    "                </font>\n",
    "            </div>\n",
    "        </td>\n",
    "        <td width=\"25%\">\n",
    "            <img src=\"NEW_GL_Logo.png\">\n",
    "        </td>\n",
    "    </tr>\n",
    "</table>"
   ]
  },
  {
   "cell_type": "markdown",
   "metadata": {},
   "source": [
    "Shafeenafarheen Jageerhussain"
   ]
  },
  {
   "cell_type": "markdown",
   "metadata": {
    "id": "2SWXoFHjRbGE"
   },
   "source": [
    "## Write your own logical script to solve the given problems (20 Marks)"
   ]
  },
  {
   "cell_type": "markdown",
   "metadata": {
    "id": "PtuTRJHvRbGF"
   },
   "source": [
    "### 1. Write a program to transpose a matrix "
   ]
  },
  {
   "cell_type": "markdown",
   "metadata": {
    "id": "PDQvp6NvRbGG"
   },
   "source": [
    "<b> matrix= [[1,2,3],[3,4,5],[5,6,8],[7,8,9]] </b><br>"
   ]
  },
  {
   "cell_type": "code",
   "execution_count": 1,
   "metadata": {},
   "outputs": [
    {
     "name": "stdout",
     "output_type": "stream",
     "text": [
      "Actual matrix: [[1, 2, 3], [3, 4, 5], [5, 6, 8], [7, 8, 9]] \n",
      "\n",
      "Tranposed Matrix: [[1, 3, 5, 7], [2, 4, 6, 8], [3, 5, 8, 9]]\n"
     ]
    }
   ],
   "source": [
    "#User input matrix\n",
    "matrix= [[1,2,3],\n",
    "         [3,4,5],\n",
    "         [5,6,8],\n",
    "         [7,8,9]]\n",
    "\n",
    "#Tranposing the matrix using 2 for loops\n",
    "#First for loop to iterate through the range (0,4) of length (i.e., no. of rows = 4) of the 2D matrix\n",
    "#Second for loop to iterate through the range (0,3) of length (i.e., no. of items = 3) of any 1D vector\n",
    "#Finally to print the outcome\n",
    "transposedMarix = [[matrix[i][j] for i in range(len(matrix))] for j in range(len(matrix[0]))]\n",
    "print(\"Actual matrix: {0} \\n\\nTranposed Matrix: {1}\".format(matrix,transposedMarix))"
   ]
  },
  {
   "cell_type": "markdown",
   "metadata": {},
   "source": [
    "### 2. Create a dictionary containing four lambda functions square, cube, squareroot, multiply by 3 \n",
    "\n",
    "**E.g. dict = {'Square': function for squaring, 'Cube': function for cube, 'Squareroot': function for squareroot, 'Double': function for double} and so on**\n",
    "\n",
    "**Pass the values (input from the user) to the functions in the dictionary respectively. Then add the outputs of each function and print it.**"
   ]
  },
  {
   "cell_type": "code",
   "execution_count": 2,
   "metadata": {},
   "outputs": [],
   "source": [
    "#From math library importing squareroot method\n",
    "from math import sqrt"
   ]
  },
  {
   "cell_type": "code",
   "execution_count": 3,
   "metadata": {
    "id": "Pxj1Oh5rRbGL"
   },
   "outputs": [
    {
     "name": "stdout",
     "output_type": "stream",
     "text": [
      "Enter a no. to find the square, cube, sq. root and x3: 9\n",
      "\n",
      "Output_dict = {'Square': 81.0, 'Cube': 729.0, 'Squareroot': 3.0, 'Multiply by 3': 27.0}\n",
      "\n",
      "Sum of output of each functions: 840.0\n"
     ]
    }
   ],
   "source": [
    "#Collecting the numerical input from the user to the object of a class \"float\" and assigned to an identifier called \"userInput\"\n",
    "userInput = float(input(\"Enter a no. to find the square, cube, sq. root and x3: \"))\n",
    "\n",
    "#Defining the lambda functions to get the desired output\n",
    "square_Fn = lambda sq: sq**2\n",
    "cube_Fn = lambda cb: cb**3\n",
    "squareRoot_Fn = lambda sr: sqrt(sr)\n",
    "multiply_by_3_Fn = lambda m3: m3*3\n",
    "\n",
    "#Setting up the Key and Value and zipping them to convert into a tuplce for creating a dictionary\n",
    "#Calling the lambda functions to perform the calculations\n",
    "outputKey = [\"Square\",\"Cube\",\"Squareroot\",\"Multiply by 3\"]\n",
    "outputValue = [square_Fn(userInput),cube_Fn(userInput),squareRoot_Fn(userInput),multiply_by_3_Fn(userInput)]\n",
    "print(\"\\nOutput_dict =\",dict(list(zip(outputKey,outputValue))))\n",
    "\n",
    "#To sum up the output of the functions\n",
    "print(\"\\nSum of output of each functions:\", sum(outputValue))"
   ]
  },
  {
   "cell_type": "markdown",
   "metadata": {},
   "source": [
    "###  3. A list of words is given. Define a function to find the words from the list that have their second character in uppercase "
   ]
  },
  {
   "cell_type": "markdown",
   "metadata": {
    "id": "JoEJ3RCbRbGN"
   },
   "source": [
    "<b>list1 = ['swiggy', 'Zomato', 'aMazon', 'TATa Cliq', 'uBer', 'JioMart','BIG BASKET' ]</b><br>"
   ]
  },
  {
   "cell_type": "code",
   "execution_count": 4,
   "metadata": {},
   "outputs": [
    {
     "name": "stdout",
     "output_type": "stream",
     "text": [
      "The words that have their 2nd char. in uppercase from the list are: ['aMazon', 'TATa Cliq', 'uBer', 'BIG BASKET']\n"
     ]
    }
   ],
   "source": [
    "#User input\n",
    "list1 = ['swiggy', 'Zomato', 'aMazon', 'TATa Cliq', 'uBer', 'JioMart','BIG BASKET']\n",
    "\n",
    "#Defining a lambda function called \"identifyUpperCase\" to identify the words from the \"list1\" that have their 2nd character in uppercase\n",
    "identifyUpperCase = list(filter(lambda l1: l1 if l1[1].isupper() else False,list1))\n",
    "    \n",
    "#Calling the User Defined Function for performing the expected validations and actions \n",
    "print(\"The words that have their 2nd char. in uppercase from the list are:\",identifyUpperCase)"
   ]
  },
  {
   "cell_type": "markdown",
   "metadata": {},
   "source": [
    " ### 4. Define a function to filter the marks from the tuple \"tmarks\" that are greater than 40 and print corresponding names from the \"tnames\" tuple "
   ]
  },
  {
   "cell_type": "markdown",
   "metadata": {
    "id": "bxm4wgFjRbGQ"
   },
   "source": [
    "<b>tnames = ('John','Sharon','Jack','Annie', 'Antony', 'Thomson', 'Rijo')</b><br>\n",
    "<b>tmarks = (32,50,75,12,40,23,37)</b>"
   ]
  },
  {
   "cell_type": "code",
   "execution_count": 5,
   "metadata": {},
   "outputs": [
    {
     "name": "stdout",
     "output_type": "stream",
     "text": [
      "Students who secured more than 40 marks are ['Sharon', 'Jack']\n"
     ]
    }
   ],
   "source": [
    "#User inputs\n",
    "tnames = ('John','Sharon','Jack','Annie', 'Antony', 'Thomson', 'Rijo')\n",
    "tmarks = (32,50,75,12,40,23,37)\n",
    "\n",
    "#Zipping the tnames and tmarks and converting it into a list\n",
    "names_and_marks = list(zip(tnames,tmarks))\n",
    "\n",
    "#Defining a lambda function \"filteringNames\" to identify the marks > 40 and print the name of student who secured the marks\n",
    "filteringNames = list(dict(filter(lambda nm: nm[0] if nm[1] > 40 else False, names_and_marks)).keys())\n",
    "print(\"Students who secured more than 40 marks are\",filteringNames)"
   ]
  },
  {
   "cell_type": "markdown",
   "metadata": {},
   "source": [
    "### 5.A dictionary of names and their weights on earth is given. Find how much they will weigh on the moon. (use map and lambda functions) "
   ]
  },
  {
   "cell_type": "markdown",
   "metadata": {
    "id": "RaAgVCDwRbGS"
   },
   "source": [
    "**Weight of people in kg**\n",
    "WeightOnEarth = {'John':45, 'Shelly':65, 'Marry':35}        \n",
    "\n",
    "**Gravitational force on the Moon**\n",
    "GMoon = 1.622                                              \n",
    "\n",
    "**Gravitational force on the Earth**\n",
    "GEarth = 9.81                                              \n",
    "\n",
    "**Output:** \n",
    "Weight on Moon:  {'John': 7.44, 'Shelly': 10.75, 'Marry': 5.79}"
   ]
  },
  {
   "cell_type": "code",
   "execution_count": null,
   "metadata": {},
   "outputs": [],
   "source": [
    "# Weight of people in kg\n",
    "# Gravitational force on the Moon: 1.622 m/s2\n",
    "# Gravitational force on the Earth: 9.81 m/s2"
   ]
  },
  {
   "cell_type": "code",
   "execution_count": 1,
   "metadata": {},
   "outputs": [],
   "source": [
    "# Formula : wMoon = (wEarth * GMoon) / GEartZ"
   ]
  },
  {
   "cell_type": "code",
   "execution_count": 6,
   "metadata": {
    "id": "It65f3IBRbGS"
   },
   "outputs": [
    {
     "name": "stdout",
     "output_type": "stream",
     "text": [
      "Weight on Moon: {'John': 7.44, 'Shelly': 10.75, 'Marry': 5.79}\n"
     ]
    }
   ],
   "source": [
    "#User input\n",
    "WeightOnEarth = {'John':45, 'Shelly':65, 'Marry':35} \n",
    "GMoon = 1.622\n",
    "GEarth = 9.81\n",
    "\n",
    "#The \"Map\" iterator return a result after applying the lambda function to every item of an iterable list (i.e., WeightOnEarthValues)\n",
    "#Zipping the weight of people on the moon with the Key list (i.e., WeightOnEarthKeys) and printing the final outcome\n",
    "print(\"Weight on Moon:\",dict(list(zip(WeightOnEarth.keys(),\n",
    "                        list(map(lambda wEarth: round((wEarth * GMoon) / GEarth,2),WeightOnEarth.values()))))))"
   ]
  }
 ],
 "metadata": {
  "colab": {
   "name": "ITP-Day 4_TH Exercise.ipynb",
   "provenance": []
  },
  "kernelspec": {
   "display_name": "Python 3 (ipykernel)",
   "language": "python",
   "name": "python3"
  },
  "language_info": {
   "codemirror_mode": {
    "name": "ipython",
    "version": 3
   },
   "file_extension": ".py",
   "mimetype": "text/x-python",
   "name": "python",
   "nbconvert_exporter": "python",
   "pygments_lexer": "ipython3",
   "version": "3.9.12"
  }
 },
 "nbformat": 4,
 "nbformat_minor": 1
}
