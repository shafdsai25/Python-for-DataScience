{
 "cells": [
  {
   "cell_type": "markdown",
   "metadata": {
    "colab_type": "text",
    "id": "p0xWds-wWyXS"
   },
   "source": [
    "<table align=\"center\" width=100%>\n",
    "    <tr>\n",
    "        <td width=\"15%\">\n",
    "            <img src=\"homework.png\">\n",
    "        </td>\n",
    "        <td>\n",
    "            <div align=\"center\">\n",
    "                <font color=\"#21618C\" size=8px>\n",
    "                    <b> PDS Mini Project 2 <br>\n",
    "                    </b>\n",
    "                </font>\n",
    "            </div>\n",
    "        </td>\n",
    "    </tr>\n",
    "</table>"
   ]
  },
  {
   "cell_type": "markdown",
   "metadata": {
    "colab_type": "text",
    "id": "xx9a2vlpWyXT"
   },
   "source": [
    "Shafeenafarheen Jageerhussain"
   ]
  },
  {
   "cell_type": "markdown",
   "metadata": {},
   "source": [
    "##### Add comments and inferences about the solutions."
   ]
  },
  {
   "cell_type": "markdown",
   "metadata": {},
   "source": [
    "### 1. Create a dictionary named 'europe_dict' which has names of countries in europe, their capital and their population. "
   ]
  },
  {
   "cell_type": "markdown",
   "metadata": {
    "colab_type": "text",
    "id": "GyUSFAnRSue0"
   },
   "source": [
    "europe_dict = {\n",
    "       \"Country\":[\"Spain\",\"France\",\"Germany\",\"Norway\"],\n",
    "       \"Capital\":[\"Madrid\",\"Paris\",\"Berlin\",\"Oslo\"],\n",
    "       \"Population\":[46.77,66.03,80.62,5.084]\n",
    "}"
   ]
  },
  {
   "cell_type": "code",
   "execution_count": 2,
   "metadata": {},
   "outputs": [
    {
     "name": "stdout",
     "output_type": "stream",
     "text": [
      "Shape: (4, 3) \n",
      "\n",
      "<class 'pandas.core.frame.DataFrame'>\n",
      "RangeIndex: 4 entries, 0 to 3\n",
      "Data columns (total 3 columns):\n",
      " #   Column      Non-Null Count  Dtype  \n",
      "---  ------      --------------  -----  \n",
      " 0   Country     4 non-null      object \n",
      " 1   Capital     4 non-null      object \n",
      " 2   Population  4 non-null      float64\n",
      "dtypes: float64(1), object(2)\n",
      "memory usage: 224.0+ bytes\n",
      "None\n",
      "\n",
      "Data Types:\n",
      " Country        object\n",
      "Capital        object\n",
      "Population    float64\n",
      "dtype: object\n"
     ]
    },
    {
     "data": {
      "text/html": [
       "<div>\n",
       "<style scoped>\n",
       "    .dataframe tbody tr th:only-of-type {\n",
       "        vertical-align: middle;\n",
       "    }\n",
       "\n",
       "    .dataframe tbody tr th {\n",
       "        vertical-align: top;\n",
       "    }\n",
       "\n",
       "    .dataframe thead th {\n",
       "        text-align: right;\n",
       "    }\n",
       "</style>\n",
       "<table border=\"1\" class=\"dataframe\">\n",
       "  <thead>\n",
       "    <tr style=\"text-align: right;\">\n",
       "      <th></th>\n",
       "      <th>Country</th>\n",
       "      <th>Capital</th>\n",
       "      <th>Population</th>\n",
       "    </tr>\n",
       "  </thead>\n",
       "  <tbody>\n",
       "    <tr>\n",
       "      <th>0</th>\n",
       "      <td>Spain</td>\n",
       "      <td>Madrid</td>\n",
       "      <td>46.770</td>\n",
       "    </tr>\n",
       "    <tr>\n",
       "      <th>1</th>\n",
       "      <td>France</td>\n",
       "      <td>Paris</td>\n",
       "      <td>66.030</td>\n",
       "    </tr>\n",
       "    <tr>\n",
       "      <th>2</th>\n",
       "      <td>Germany</td>\n",
       "      <td>Berlin</td>\n",
       "      <td>80.620</td>\n",
       "    </tr>\n",
       "    <tr>\n",
       "      <th>3</th>\n",
       "      <td>Norway</td>\n",
       "      <td>Oslo</td>\n",
       "      <td>5.084</td>\n",
       "    </tr>\n",
       "  </tbody>\n",
       "</table>\n",
       "</div>"
      ],
      "text/plain": [
       "   Country Capital  Population\n",
       "0    Spain  Madrid      46.770\n",
       "1   France   Paris      66.030\n",
       "2  Germany  Berlin      80.620\n",
       "3   Norway    Oslo       5.084"
      ]
     },
     "execution_count": 2,
     "metadata": {},
     "output_type": "execute_result"
    }
   ],
   "source": [
    "#Importing the pandas library for the purpose of creating a dataframe using the \"europe_dict\" dictionary.\n",
    "import pandas as pd\n",
    "\n",
    "#Create a dictionary named \"europe_dict\" which has names of countries in europe, their capital and their population.\n",
    "europe_dict = {\n",
    "       \"Country\":[\"Spain\",\"France\",\"Germany\",\"Norway\"],\n",
    "       \"Capital\":[\"Madrid\",\"Paris\",\"Berlin\",\"Oslo\"],\n",
    "       \"Population\":[46.77,66.03,80.62,5.084]\n",
    "}\n",
    "\n",
    "#Creating the \"df_europe\" pandas dataframe from the features in \"europe_dict\" dictionary.\n",
    "#As the index is not customized, it follows the default values of 0, 1, 2,....,n\n",
    "df_europe = pd.DataFrame(europe_dict)\n",
    "\n",
    "#Prints to the shape (rows, cols), info and datatypes of the features from the custom dataframe called \"df_europe\"\n",
    "print(\"Shape:\",df_europe.shape,\"\\n\")\n",
    "print(df_europe.info())\n",
    "print(\"\\nData Types:\\n\",df_europe.dtypes)\n",
    "\n",
    "#Displays the first 5 observations / rows from the custom dataframe called \"df_europe\"\n",
    "df_europe.head()"
   ]
  },
  {
   "cell_type": "markdown",
   "metadata": {},
   "source": [
    "#### Inferences:\n",
    "Dataframe called \"df_europe\" has been created by using \"europe_dict\" dictionary which contains 3 features - i.e., Country, Capital and Population."
   ]
  },
  {
   "cell_type": "markdown",
   "metadata": {
    "colab": {},
    "colab_type": "code",
    "id": "V4fZ7babWyXU"
   },
   "source": [
    "### 2. Use the data from question 1 and add a new column 'FamousFor'. The column should indicate what each country is famous for. "
   ]
  },
  {
   "cell_type": "markdown",
   "metadata": {
    "colab_type": "text",
    "id": "g5BRVBigWyXc"
   },
   "source": [
    "**Note:** Assigning a column that doesn’t exist will create a new column."
   ]
  },
  {
   "cell_type": "code",
   "execution_count": 3,
   "metadata": {
    "colab": {},
    "colab_type": "code",
    "id": "3NoCImisWyXZ"
   },
   "outputs": [
    {
     "data": {
      "text/html": [
       "<div>\n",
       "<style scoped>\n",
       "    .dataframe tbody tr th:only-of-type {\n",
       "        vertical-align: middle;\n",
       "    }\n",
       "\n",
       "    .dataframe tbody tr th {\n",
       "        vertical-align: top;\n",
       "    }\n",
       "\n",
       "    .dataframe thead th {\n",
       "        text-align: right;\n",
       "    }\n",
       "</style>\n",
       "<table border=\"1\" class=\"dataframe\">\n",
       "  <thead>\n",
       "    <tr style=\"text-align: right;\">\n",
       "      <th></th>\n",
       "      <th>Country</th>\n",
       "      <th>Capital</th>\n",
       "      <th>Population</th>\n",
       "      <th>Famous For</th>\n",
       "    </tr>\n",
       "  </thead>\n",
       "  <tbody>\n",
       "    <tr>\n",
       "      <th>0</th>\n",
       "      <td>Spain</td>\n",
       "      <td>Madrid</td>\n",
       "      <td>46.770</td>\n",
       "      <td>Bullfights</td>\n",
       "    </tr>\n",
       "    <tr>\n",
       "      <th>1</th>\n",
       "      <td>France</td>\n",
       "      <td>Paris</td>\n",
       "      <td>66.030</td>\n",
       "      <td>The Eiffel Tower</td>\n",
       "    </tr>\n",
       "    <tr>\n",
       "      <th>2</th>\n",
       "      <td>Germany</td>\n",
       "      <td>Berlin</td>\n",
       "      <td>80.620</td>\n",
       "      <td>Beer</td>\n",
       "    </tr>\n",
       "    <tr>\n",
       "      <th>3</th>\n",
       "      <td>Norway</td>\n",
       "      <td>Oslo</td>\n",
       "      <td>5.084</td>\n",
       "      <td>Midnight Sun</td>\n",
       "    </tr>\n",
       "  </tbody>\n",
       "</table>\n",
       "</div>"
      ],
      "text/plain": [
       "   Country Capital  Population        Famous For\n",
       "0    Spain  Madrid      46.770        Bullfights\n",
       "1   France   Paris      66.030  The Eiffel Tower\n",
       "2  Germany  Berlin      80.620              Beer\n",
       "3   Norway    Oslo       5.084      Midnight Sun"
      ]
     },
     "execution_count": 3,
     "metadata": {},
     "output_type": "execute_result"
    }
   ],
   "source": [
    "#Creating a custom dictionary called \"famour_for\" with \"Country\" as key and \"Famous\" items as value pair list\n",
    "famour_for = {\"Spain\":\"Bullfights\",\"France\":\"The Eiffel Tower\",\"Germany\":\"Beer\",\"Norway\":\"Midnight Sun\"}\n",
    "\n",
    "#Mapping the \"value\" of custom dictionary based on the look-up \"key\" (i.e., country) to a new feature called as \"Famous For\"\n",
    "df_europe[\"Famous For\"] = df_europe[\"Country\"].map(famour_for) \n",
    "\n",
    "#Displays the first 5 observations / rows from the custom dataframe called \"df_europe\", incl. the newly created column.\n",
    "df_europe.head()"
   ]
  },
  {
   "cell_type": "markdown",
   "metadata": {},
   "source": [
    "#### Inferences:\n",
    "A dictionary called \"famous_for\" that has key (i.e., Country) and value (i.e., Famous places / events etc.) pair, has been mapped as an input for the dataframe created earlier (i.e., df_europe). As the \"Famous For\" feature doesn't already exist in the df, it creates a new column by default to assign the value."
   ]
  },
  {
   "cell_type": "markdown",
   "metadata": {},
   "source": [
    "### 3. Use the data created in question 1, to do the following: \n",
    "#### Access column 'Captial' by specifying the column number.\n",
    "#### Access column 'Population' by specifying the column name.\n",
    "#### Access a country information"
   ]
  },
  {
   "cell_type": "code",
   "execution_count": 8,
   "metadata": {
    "colab": {},
    "colab_type": "code",
    "id": "4piPkSKvWyXd"
   },
   "outputs": [
    {
     "data": {
      "text/html": [
       "<div>\n",
       "<style scoped>\n",
       "    .dataframe tbody tr th:only-of-type {\n",
       "        vertical-align: middle;\n",
       "    }\n",
       "\n",
       "    .dataframe tbody tr th {\n",
       "        vertical-align: top;\n",
       "    }\n",
       "\n",
       "    .dataframe thead th {\n",
       "        text-align: right;\n",
       "    }\n",
       "</style>\n",
       "<table border=\"1\" class=\"dataframe\">\n",
       "  <thead>\n",
       "    <tr style=\"text-align: right;\">\n",
       "      <th></th>\n",
       "      <th>Capital</th>\n",
       "    </tr>\n",
       "  </thead>\n",
       "  <tbody>\n",
       "    <tr>\n",
       "      <th>0</th>\n",
       "      <td>Madrid</td>\n",
       "    </tr>\n",
       "    <tr>\n",
       "      <th>1</th>\n",
       "      <td>Paris</td>\n",
       "    </tr>\n",
       "    <tr>\n",
       "      <th>2</th>\n",
       "      <td>Berlin</td>\n",
       "    </tr>\n",
       "    <tr>\n",
       "      <th>3</th>\n",
       "      <td>Oslo</td>\n",
       "    </tr>\n",
       "  </tbody>\n",
       "</table>\n",
       "</div>"
      ],
      "text/plain": [
       "  Capital\n",
       "0  Madrid\n",
       "1   Paris\n",
       "2  Berlin\n",
       "3    Oslo"
      ]
     },
     "execution_count": 8,
     "metadata": {},
     "output_type": "execute_result"
    }
   ],
   "source": [
    "#1) Accessing the column called \"Captial\" by specifying the column number, using \"index location\" based access method.\n",
    "\n",
    "#[:,1:2] ==> Performing the below operations in the dataframe:\n",
    "#  a. Slicing (i.e., \":\") though all the rows by using its indinces\n",
    "#  b. Selecting only the second column (i.e., 1:2, where 1 is included and 2 is excluded) by using the column index\n",
    "\n",
    "df_europe.iloc[:,1:2]"
   ]
  },
  {
   "cell_type": "code",
   "execution_count": 5,
   "metadata": {
    "colab": {},
    "colab_type": "code",
    "id": "mQw3NaH8WyXf"
   },
   "outputs": [
    {
     "data": {
      "text/html": [
       "<div>\n",
       "<style scoped>\n",
       "    .dataframe tbody tr th:only-of-type {\n",
       "        vertical-align: middle;\n",
       "    }\n",
       "\n",
       "    .dataframe tbody tr th {\n",
       "        vertical-align: top;\n",
       "    }\n",
       "\n",
       "    .dataframe thead th {\n",
       "        text-align: right;\n",
       "    }\n",
       "</style>\n",
       "<table border=\"1\" class=\"dataframe\">\n",
       "  <thead>\n",
       "    <tr style=\"text-align: right;\">\n",
       "      <th></th>\n",
       "      <th>Population</th>\n",
       "    </tr>\n",
       "  </thead>\n",
       "  <tbody>\n",
       "    <tr>\n",
       "      <th>0</th>\n",
       "      <td>46.770</td>\n",
       "    </tr>\n",
       "    <tr>\n",
       "      <th>1</th>\n",
       "      <td>66.030</td>\n",
       "    </tr>\n",
       "    <tr>\n",
       "      <th>2</th>\n",
       "      <td>80.620</td>\n",
       "    </tr>\n",
       "    <tr>\n",
       "      <th>3</th>\n",
       "      <td>5.084</td>\n",
       "    </tr>\n",
       "  </tbody>\n",
       "</table>\n",
       "</div>"
      ],
      "text/plain": [
       "   Population\n",
       "0      46.770\n",
       "1      66.030\n",
       "2      80.620\n",
       "3       5.084"
      ]
     },
     "execution_count": 5,
     "metadata": {},
     "output_type": "execute_result"
    }
   ],
   "source": [
    "#2) Accessing the column called \"Population\" by specifying the column name, using \"label location\" based access method.\n",
    "\n",
    "#[:,[\"Population\"]] ==> Performing the below operations in the dataframe:\n",
    "#  a. Slicing (i.e., \":\") though all the rows by using its indices\n",
    "#  b. Selecting only the \"Population\" column by using the column label index\n",
    "\n",
    "df_europe.loc[:,[\"Population\"]]"
   ]
  },
  {
   "cell_type": "code",
   "execution_count": 7,
   "metadata": {
    "colab": {},
    "colab_type": "code",
    "id": "O0xAzPQGWyXh"
   },
   "outputs": [
    {
     "data": {
      "text/html": [
       "<div>\n",
       "<style scoped>\n",
       "    .dataframe tbody tr th:only-of-type {\n",
       "        vertical-align: middle;\n",
       "    }\n",
       "\n",
       "    .dataframe tbody tr th {\n",
       "        vertical-align: top;\n",
       "    }\n",
       "\n",
       "    .dataframe thead th {\n",
       "        text-align: right;\n",
       "    }\n",
       "</style>\n",
       "<table border=\"1\" class=\"dataframe\">\n",
       "  <thead>\n",
       "    <tr style=\"text-align: right;\">\n",
       "      <th></th>\n",
       "      <th>Country</th>\n",
       "      <th>Capital</th>\n",
       "      <th>Population</th>\n",
       "      <th>Famous For</th>\n",
       "    </tr>\n",
       "  </thead>\n",
       "  <tbody>\n",
       "    <tr>\n",
       "      <th>1</th>\n",
       "      <td>France</td>\n",
       "      <td>Paris</td>\n",
       "      <td>66.03</td>\n",
       "      <td>The Eiffel Tower</td>\n",
       "    </tr>\n",
       "  </tbody>\n",
       "</table>\n",
       "</div>"
      ],
      "text/plain": [
       "  Country Capital  Population        Famous For\n",
       "1  France   Paris       66.03  The Eiffel Tower"
      ]
     },
     "execution_count": 7,
     "metadata": {},
     "output_type": "execute_result"
    }
   ],
   "source": [
    "#3) Accessing the \"France\" country's information by slicing through the row label, using \"direct access\" method.\n",
    "\n",
    "#[1:2] ==> Returns only the 2nd row from the df_europe dataframe.\n",
    "#Start position (i.e., 1 ==> 2nd row) is included and end position (2 ==> 3rd row) is excluded.\n",
    "\n",
    "df_europe[1:2]"
   ]
  },
  {
   "cell_type": "markdown",
   "metadata": {},
   "source": [
    "#### Inferences:\n",
    "The required rows and columns from the df_europe dataframe has been accessed using either one of the 3 available methods (i.e., Direct Access, Label Location, Index Location) to display the expected output.\n",
    "\n",
    "#### Question #1. \n",
    "Index Location based access method was used, where .iloc[:,1:2] does the below operations in the dataframe:\n",
    "a. Slices (i.e., \":\") though all the rows by using its indinces\n",
    "b. Selects only the second column (i.e., 1:2, where 1 is included and 2 is excluded) by using the column index.\n",
    "\n",
    "#### Question #2.\n",
    "Label Location based access method was used, where .loc[:,[\"Population\"]] does the below operations in the dataframe:\n",
    "a. Slices (i.e., \":\") though all the rows by using its indices\n",
    "b. Selects only the \"Population\" feature by using the column label index\n",
    "\n",
    "#### Question #3.\n",
    "Direct Access method was used, where [1:2] returns only the 2nd row from the df_europe dataframe."
   ]
  },
  {
   "cell_type": "markdown",
   "metadata": {},
   "source": [
    "\t\n",
    "### 4. Read a csv file \"example.csv\", print it and also check its dimensions "
   ]
  },
  {
   "cell_type": "code",
   "execution_count": 13,
   "metadata": {
    "colab": {},
    "colab_type": "code",
    "id": "YMJFdwPKWyXm"
   },
   "outputs": [
    {
     "name": "stdout",
     "output_type": "stream",
     "text": [
      "Shape: (10, 3)\n",
      "\n",
      "Dimension: 2\n",
      "\n",
      "Info:\n",
      "<class 'pandas.core.frame.DataFrame'>\n",
      "RangeIndex: 10 entries, 0 to 9\n",
      "Data columns (total 3 columns):\n",
      " #   Column         Non-Null Count  Dtype \n",
      "---  ------         --------------  ----- \n",
      " 0   Product ID     10 non-null     object\n",
      " 1   Cost Price     10 non-null     int64 \n",
      " 2   Selling Price  10 non-null     int64 \n",
      "dtypes: int64(2), object(1)\n",
      "memory usage: 368.0+ bytes\n",
      "None\n",
      "\n",
      "Data Types:\n",
      " Product ID       object\n",
      "Cost Price        int64\n",
      "Selling Price     int64\n",
      "dtype: object\n"
     ]
    },
    {
     "data": {
      "text/html": [
       "<div>\n",
       "<style scoped>\n",
       "    .dataframe tbody tr th:only-of-type {\n",
       "        vertical-align: middle;\n",
       "    }\n",
       "\n",
       "    .dataframe tbody tr th {\n",
       "        vertical-align: top;\n",
       "    }\n",
       "\n",
       "    .dataframe thead th {\n",
       "        text-align: right;\n",
       "    }\n",
       "</style>\n",
       "<table border=\"1\" class=\"dataframe\">\n",
       "  <thead>\n",
       "    <tr style=\"text-align: right;\">\n",
       "      <th></th>\n",
       "      <th>Product ID</th>\n",
       "      <th>Cost Price</th>\n",
       "      <th>Selling Price</th>\n",
       "    </tr>\n",
       "  </thead>\n",
       "  <tbody>\n",
       "    <tr>\n",
       "      <th>0</th>\n",
       "      <td>45SD</td>\n",
       "      <td>60</td>\n",
       "      <td>135</td>\n",
       "    </tr>\n",
       "    <tr>\n",
       "      <th>1</th>\n",
       "      <td>12PO</td>\n",
       "      <td>43</td>\n",
       "      <td>121</td>\n",
       "    </tr>\n",
       "    <tr>\n",
       "      <th>2</th>\n",
       "      <td>54PL</td>\n",
       "      <td>78</td>\n",
       "      <td>150</td>\n",
       "    </tr>\n",
       "    <tr>\n",
       "      <th>3</th>\n",
       "      <td>26PL</td>\n",
       "      <td>65</td>\n",
       "      <td>121</td>\n",
       "    </tr>\n",
       "    <tr>\n",
       "      <th>4</th>\n",
       "      <td>68HG</td>\n",
       "      <td>50</td>\n",
       "      <td>132</td>\n",
       "    </tr>\n",
       "  </tbody>\n",
       "</table>\n",
       "</div>"
      ],
      "text/plain": [
       "  Product ID  Cost Price  Selling Price\n",
       "0       45SD          60            135\n",
       "1       12PO          43            121\n",
       "2       54PL          78            150\n",
       "3       26PL          65            121\n",
       "4       68HG          50            132"
      ]
     },
     "execution_count": 13,
     "metadata": {},
     "output_type": "execute_result"
    }
   ],
   "source": [
    "#Reading the example.csv file's dataset using a pandas method called \".read_csv()\"\n",
    "df_examples = pd.read_csv(r\"example.csv\")\n",
    "\n",
    "#Prints the Shape (i.e., rows, columns), Dimension (i.e., 1D, 2D etc.), Info and Data Types of the df_examples dataframe\n",
    "print(\"Shape:\",df_examples.shape)\n",
    "print(\"\\nDimension:\",df_examples.ndim)\n",
    "print(\"\\nInfo:\")\n",
    "print(df_examples.info())\n",
    "print(\"\\nData Types:\\n\",df_examples.dtypes)\n",
    "\n",
    "#Displays the first 5 rows from the df_examples dataframe\n",
    "df_examples.head()"
   ]
  },
  {
   "cell_type": "markdown",
   "metadata": {},
   "source": [
    "#### Inferences:\n",
    "Methods / properties of pandas like .shape, .ndim, .info(), dtypes are used to determine the shape (rows, columns - i.e., 10,3 in this example), dimension (1D, 2D etc. - i.e., 2 in this ex.), data type (Product ID is object; Cost >Price and Selling Price are int64 in this ex.) and non-null (0 null values in this ex.) information."
   ]
  },
  {
   "cell_type": "markdown",
   "metadata": {},
   "source": [
    "### 5. Create a new column BMI, calculate the BMI of persons based on their weight and height. "
   ]
  },
  {
   "cell_type": "code",
   "execution_count": 22,
   "metadata": {
    "colab": {},
    "colab_type": "code",
    "id": "RTEK8gUkWyXt"
   },
   "outputs": [
    {
     "data": {
      "text/html": [
       "<div>\n",
       "<style scoped>\n",
       "    .dataframe tbody tr th:only-of-type {\n",
       "        vertical-align: middle;\n",
       "    }\n",
       "\n",
       "    .dataframe tbody tr th {\n",
       "        vertical-align: top;\n",
       "    }\n",
       "\n",
       "    .dataframe thead th {\n",
       "        text-align: right;\n",
       "    }\n",
       "</style>\n",
       "<table border=\"1\" class=\"dataframe\">\n",
       "  <thead>\n",
       "    <tr style=\"text-align: right;\">\n",
       "      <th></th>\n",
       "      <th>Name</th>\n",
       "      <th>Height</th>\n",
       "      <th>Weight</th>\n",
       "      <th>BMI</th>\n",
       "    </tr>\n",
       "  </thead>\n",
       "  <tbody>\n",
       "    <tr>\n",
       "      <th>0</th>\n",
       "      <td>Venkat</td>\n",
       "      <td>180</td>\n",
       "      <td>85</td>\n",
       "      <td>26.23</td>\n",
       "    </tr>\n",
       "    <tr>\n",
       "      <th>1</th>\n",
       "      <td>Ajitha</td>\n",
       "      <td>160</td>\n",
       "      <td>65</td>\n",
       "      <td>25.39</td>\n",
       "    </tr>\n",
       "    <tr>\n",
       "      <th>2</th>\n",
       "      <td>Samyuktha</td>\n",
       "      <td>170</td>\n",
       "      <td>70</td>\n",
       "      <td>24.22</td>\n",
       "    </tr>\n",
       "    <tr>\n",
       "      <th>3</th>\n",
       "      <td>Yash</td>\n",
       "      <td>160</td>\n",
       "      <td>50</td>\n",
       "      <td>19.53</td>\n",
       "    </tr>\n",
       "  </tbody>\n",
       "</table>\n",
       "</div>"
      ],
      "text/plain": [
       "        Name  Height  Weight    BMI\n",
       "0     Venkat     180      85  26.23\n",
       "1     Ajitha     160      65  25.39\n",
       "2  Samyuktha     170      70  24.22\n",
       "3       Yash     160      50  19.53"
      ]
     },
     "execution_count": 22,
     "metadata": {},
     "output_type": "execute_result"
    }
   ],
   "source": [
    "#Creating a new dataframe called \"df_bmi\" with 3 features - i.e., Name, Height and Weight\n",
    "df_bmi = pd.DataFrame(\n",
    "    {\n",
    "     'Name':['Venkat','Ajitha','Samyuktha','Yash'],\n",
    "     'Height':[180,160,170,160],\n",
    "     'Weight':[85,65,70,50]\n",
    "    }\n",
    ")\n",
    "\n",
    "#Calculating the BMI for the given users based on their height and weight and storing the same under \"BMI\" feature\n",
    "#Rounding off the output values - i.e., BMI to 2 decimal places\n",
    "df_bmi['BMI'] = round(df_bmi.apply(lambda data : data.Weight / (data.Height/100)**2 , axis=1),2)\n",
    "\n",
    "df_bmi.head()"
   ]
  },
  {
   "cell_type": "markdown",
   "metadata": {},
   "source": [
    "#### Inferences:\n",
    "\n",
    "A new dataframe called \"df_bmi\" is created with the 3 features - i.e., Name, Height and Weight with some values assumed for calcuating the BMI (i.e., Kg / m^2). The heights given in cm in this example is converted into m by dividing the same with 100. After computation of the BMI values, the figure is rounded off to 2 decimal places and the same has been shown in the final output above.\n",
    "\n",
    "Below chart shows the generally observed BMI ranges and the corresponding status:\n",
    "##### S.No. | BMI Weight | Status\n",
    "1 | Below 18.5 | Underweight\n",
    "\n",
    "2 | 18.5 - 24.9 | Normal\n",
    "\n",
    "3 | 25.0 - 29.9 | Overweight\n",
    "\n",
    "4 | 30.0 - above | Obese\n",
    "\n",
    "By comparing the above BMI chart with the output received, Venkat's and Ajitha's BMI statuses are \"Overweight\" and Samyuktha's and Yash's statuses are \"Normal\"."
   ]
  },
  {
   "cell_type": "markdown",
   "metadata": {},
   "source": [
    "### 6. Create a pandas series having values 4, 7, -5, 3, NAN and their index as d, b, a, c, e "
   ]
  },
  {
   "cell_type": "code",
   "execution_count": 30,
   "metadata": {
    "colab": {},
    "colab_type": "code",
    "id": "dNZlAowfWyXv"
   },
   "outputs": [
    {
     "name": "stdout",
     "output_type": "stream",
     "text": [
      "Creating the series using lists:\n",
      " d    4.0\n",
      "b    7.0\n",
      "a   -5.0\n",
      "c    3.0\n",
      "e    NaN\n",
      "dtype: float64\n",
      "\n",
      "Creating the series using dictionary:\n",
      " d    4.0\n",
      "b    7.0\n",
      "a   -5.0\n",
      "c    3.0\n",
      "e    NaN\n",
      "dtype: float64\n"
     ]
    }
   ],
   "source": [
    "#Importing the numpy library for creating an empty value or Nan in the mylist1 / mydict1.\n",
    "import numpy as np\n",
    "\n",
    "#a) Creating using index and values lists (i.e., indexlist and mylist1):\n",
    "mylist1 = [4,7,-5,3,np.NaN]\n",
    "indexlist = [\"d\",\"b\",\"a\",\"c\",\"e\"]\n",
    "\n",
    "#Passing the index and values lists as the input for creating the pandas series ps51_list\n",
    "ps51_list = pd.Series(mylist1, index=indexlist)\n",
    "\n",
    "#Prints the outcome of ps51_list series\n",
    "print(\"Creating the series using lists:\\n\",ps51_list)\n",
    "\n",
    "#b) Creating the Series using dictionary (i.e., mydict1):\n",
    "mydict1 = {'d':4,'b':7,'a':-5,'c':3,'e':np.nan}\n",
    "\n",
    "#Passing the dictionary mydict1 as the input for creating the pandas series ps51_dict\n",
    "ps51_dict = pd.Series(mydict1)\n",
    "\n",
    "#Prints the outcome of ps51_dict series\n",
    "print(\"\\nCreating the series using dictionary:\\n\",ps51_dict)"
   ]
  },
  {
   "cell_type": "markdown",
   "metadata": {},
   "source": [
    "#### Inferences:\n",
    "Series are created using the below 2 ways by passing:\n",
    "\n",
    "Option 1: the index and values lists as an input\n",
    "\n",
    "Option 2: the dictionary as an input"
   ]
  },
  {
   "cell_type": "markdown",
   "metadata": {},
   "source": [
    "### 7. Using the series in question 6, find:                       \n",
    "#### Find the minimum of all values\n",
    "#### Find the maximum of all value"
   ]
  },
  {
   "cell_type": "code",
   "execution_count": 33,
   "metadata": {
    "colab": {},
    "colab_type": "code",
    "id": "OpwaHdp-WyXz"
   },
   "outputs": [
    {
     "name": "stdout",
     "output_type": "stream",
     "text": [
      "The minimum value from ps51_list is -5.0\n"
     ]
    }
   ],
   "source": [
    "#Calculating and printing the minimum value from the ps51_list series\n",
    "print(\"The minimum value from ps51_list is\", ps51_list.min())"
   ]
  },
  {
   "cell_type": "code",
   "execution_count": 35,
   "metadata": {
    "colab": {},
    "colab_type": "code",
    "id": "2vt7vp_vWyX3"
   },
   "outputs": [
    {
     "name": "stdout",
     "output_type": "stream",
     "text": [
      "The maximum value from ps51_dict is 7.0\n"
     ]
    }
   ],
   "source": [
    "#Calculating and printing the maximum value from the ps51_dict series\n",
    "print(\"The maximum value from ps51_dict is\", ps51_dict.max())"
   ]
  },
  {
   "cell_type": "markdown",
   "metadata": {},
   "source": [
    "#### Inferences:\n",
    "The .min() and .max() are the methods in the pandas series, where the 'min' gives the minimum value and the 'max' gives the maximum value in the series, by skipping the Nan / empty values.\n",
    "\n",
    "Applying the logic to the series framed in the previous question, the minimum of all values is -5.0 and the maximum of all values is 7.0"
   ]
  },
  {
   "cell_type": "markdown",
   "metadata": {},
   "source": [
    "### 8. Using the series in question 6, sort: \n",
    "#### the values in ascending order\n",
    "#### the values in decending order"
   ]
  },
  {
   "cell_type": "code",
   "execution_count": 38,
   "metadata": {
    "colab": {},
    "colab_type": "code",
    "id": "Ug_RuzQ4WyX7"
   },
   "outputs": [
    {
     "data": {
      "text/plain": [
       "a   -5.0\n",
       "c    3.0\n",
       "d    4.0\n",
       "b    7.0\n",
       "e    NaN\n",
       "dtype: float64"
      ]
     },
     "execution_count": 38,
     "metadata": {},
     "output_type": "execute_result"
    }
   ],
   "source": [
    "#Sorting the ps51_list series in ascending order\n",
    "\n",
    "#.sort_values() without passing the order, does the below by default unless specified explicitly:\n",
    "#a. sorts the values in ascending order\n",
    "#b. positions the Nan value atlast\n",
    "\n",
    "ps51_list.sort_values()"
   ]
  },
  {
   "cell_type": "code",
   "execution_count": 37,
   "metadata": {},
   "outputs": [
    {
     "data": {
      "text/plain": [
       "e    NaN\n",
       "a   -5.0\n",
       "c    3.0\n",
       "d    4.0\n",
       "b    7.0\n",
       "dtype: float64"
      ]
     },
     "execution_count": 37,
     "metadata": {},
     "output_type": "execute_result"
    }
   ],
   "source": [
    "#Sorting the ps51_list series in ascending order by positioning the Nan values at the beginning (i.e., na_position = 'first'):\n",
    "\n",
    "ps51_list.sort_values(na_position='first')"
   ]
  },
  {
   "cell_type": "code",
   "execution_count": 39,
   "metadata": {},
   "outputs": [
    {
     "data": {
      "text/plain": [
       "b    7.0\n",
       "d    4.0\n",
       "c    3.0\n",
       "a   -5.0\n",
       "e    NaN\n",
       "dtype: float64"
      ]
     },
     "execution_count": 39,
     "metadata": {},
     "output_type": "execute_result"
    }
   ],
   "source": [
    "#Sorting the ps51_list series in descending order (i.e., ascending = False):\n",
    "\n",
    "ps51_list.sort_values(ascending=False)"
   ]
  },
  {
   "cell_type": "code",
   "execution_count": 40,
   "metadata": {},
   "outputs": [
    {
     "data": {
      "text/plain": [
       "e    NaN\n",
       "b    7.0\n",
       "d    4.0\n",
       "c    3.0\n",
       "a   -5.0\n",
       "dtype: float64"
      ]
     },
     "execution_count": 40,
     "metadata": {},
     "output_type": "execute_result"
    }
   ],
   "source": [
    "#Sorting the ps51_list series in descending order (i.e., ascending = False),\n",
    "                 #by positioning the Nan values at the beginning (i.e., na_position = 'first'):\n",
    "\n",
    "ps51_list.sort_values(ascending = False,na_position='first')"
   ]
  },
  {
   "cell_type": "markdown",
   "metadata": {},
   "source": [
    "#### Inferences:\n",
    "\n",
    "The sort_values method is used to sort (ascending by default) and to position the Nan (at last by default) in the series.\n",
    "\n",
    "The elements of the series can be sorted in descending order by passing the parameter \"ascending = False\" and keeps the null value at last. The NaN can also be placed first during sorting by passing the parameter \"na_position = 'first'\" to the sort values function."
   ]
  },
  {
   "cell_type": "markdown",
   "metadata": {
    "colab": {},
    "colab_type": "code",
    "id": "CerxeFjWWyX9"
   },
   "source": [
    "### 9. Find duplicate rows based on selected column ('Name') \n"
   ]
  },
  {
   "cell_type": "markdown",
   "metadata": {},
   "source": [
    "**Use the data frame given below:**\n",
    " \n",
    "\n",
    "<table>\n",
    "<tr>\n",
    "<th>Name</th>\n",
    "<th>Salary</th>\n",
    "<th>City</th>\n",
    "</tr>\n",
    "<tr>\n",
    "<td>John</td>\n",
    "<td>3400</td>\n",
    "<td>Sydeny</td>\n",
    "</tr>\n",
    "<tr>\n",
    "<td>Robert</td>\n",
    "<td>3000</td>\n",
    "<td>Chicago</td>\n",
    "</tr>\n",
    "<tr>\n",
    "<td>Aadi</td>\n",
    "<td>1600</td>\n",
    "<td>New York</td>\n",
    "</tr>\n",
    "<tr>\n",
    "<td>Robert</td>\n",
    "<td>3000</td>\n",
    "<td>Chicago</td>\n",
    "</tr>\n",
    "<tr>\n",
    "<td>Robert</td>\n",
    "<td>3000</td>\n",
    "<td>Chicago</td>\n",
    "</tr>\n",
    "<tr>\n",
    "<td>Robert</td>\n",
    "<td>3000</td>\n",
    "<td>Texas</td>\n",
    "</tr>\n",
    "<tr>\n",
    "<td>Aadi</td>\n",
    "<td>4000</td>\n",
    "<td>London</td>\n",
    "</tr>\n",
    "<tr>\n",
    "<td>Sachin</td>\n",
    "<td>3000</td>\n",
    "<td>Chicago</td>\n",
    "</tr>\n",
    "</table>"
   ]
  },
  {
   "cell_type": "code",
   "execution_count": 42,
   "metadata": {},
   "outputs": [
    {
     "data": {
      "text/html": [
       "<div>\n",
       "<style scoped>\n",
       "    .dataframe tbody tr th:only-of-type {\n",
       "        vertical-align: middle;\n",
       "    }\n",
       "\n",
       "    .dataframe tbody tr th {\n",
       "        vertical-align: top;\n",
       "    }\n",
       "\n",
       "    .dataframe thead th {\n",
       "        text-align: right;\n",
       "    }\n",
       "</style>\n",
       "<table border=\"1\" class=\"dataframe\">\n",
       "  <thead>\n",
       "    <tr style=\"text-align: right;\">\n",
       "      <th></th>\n",
       "      <th>Name</th>\n",
       "      <th>Salary</th>\n",
       "      <th>City</th>\n",
       "    </tr>\n",
       "  </thead>\n",
       "  <tbody>\n",
       "    <tr>\n",
       "      <th>3</th>\n",
       "      <td>Robert</td>\n",
       "      <td>3000</td>\n",
       "      <td>Chicago</td>\n",
       "    </tr>\n",
       "    <tr>\n",
       "      <th>4</th>\n",
       "      <td>Robert</td>\n",
       "      <td>3000</td>\n",
       "      <td>Chicago</td>\n",
       "    </tr>\n",
       "    <tr>\n",
       "      <th>5</th>\n",
       "      <td>Robert</td>\n",
       "      <td>3000</td>\n",
       "      <td>Texas</td>\n",
       "    </tr>\n",
       "    <tr>\n",
       "      <th>6</th>\n",
       "      <td>Aadi</td>\n",
       "      <td>4000</td>\n",
       "      <td>London</td>\n",
       "    </tr>\n",
       "  </tbody>\n",
       "</table>\n",
       "</div>"
      ],
      "text/plain": [
       "     Name  Salary     City\n",
       "3  Robert    3000  Chicago\n",
       "4  Robert    3000  Chicago\n",
       "5  Robert    3000    Texas\n",
       "6    Aadi    4000   London"
      ]
     },
     "execution_count": 42,
     "metadata": {},
     "output_type": "execute_result"
    }
   ],
   "source": [
    "#Creating a dictionary called \"employee_details\"\n",
    "employee_details = {\n",
    "       \"Name\":[\"John\",\"Robert\",\"Aadi\",\"Robert\",\"Robert\",\"Robert\",\"Aadi\",\"Sachin\"],\n",
    "       \"Salary\":[3400,3000,1600,3000,3000,3000,4000,3000],\n",
    "       \"City\":[\"Sydney\",\"Chicago\",\"New York\",\"Chicago\",\"Chicago\",\"Texas\",\"London\",\"Chicago\"]\n",
    "}\n",
    "\n",
    "#Passing the dictionary created above as an input of the dataframe called \"df83\" (with 8 rows and 3 columns)\n",
    "df83 = pd.DataFrame(employee_details)\n",
    "\n",
    "#Identifying the duplicate rows using .duplicated() method by:\n",
    "#a. passing the column name in subset\n",
    "#b. the item that needs to be detected as duplicate\n",
    "#   keep = 'first' ==> assumes the first occurence in the given subset as non-duplicate record\n",
    "#   similarly we can apply keep = 'last' or False, to go for other combinations\n",
    "\n",
    "#The output of the .duplicated() method (i.e., True / False) is once again passed to the dataframe df83 itself, \n",
    "                           #to diplay the non-duplicated records / rows\n",
    "df83[df83.duplicated(subset=[\"Name\"], keep=\"first\")]"
   ]
  },
  {
   "cell_type": "markdown",
   "metadata": {},
   "source": [
    "#### Inferences:\n",
    "\n",
    "The duplicated method along with the column name 'Name' which is passed as the parameter is used to find the duplicate rows for that specific column. By default, it treats the first occurance of the repeated value to be original and rest of the occurance to be duplicate.\n",
    "\n",
    "Similarly, the last occurance of the repeated value can be made as original and rest to be duplicate by passing the parameter \"keep = 'last'\" to the duplicated function. To return all the occurance of the duplicate values, pass \"keep = False\"."
   ]
  },
  {
   "cell_type": "markdown",
   "metadata": {},
   "source": [
    "### 10. Get the descriptive statistics of the sales for each season "
   ]
  },
  {
   "cell_type": "markdown",
   "metadata": {},
   "source": [
    "**Use the data frame given below:**\n",
    "   \n",
    "<table>\n",
    "<tr>\n",
    "<th>Month</th>\n",
    "<th>Sales</th>\n",
    "<th>Seasons</th>\n",
    "</tr>\n",
    "<tr>\n",
    "<td>Jan</td>\n",
    "<td>22000</td>\n",
    "<td>Winter</td>\n",
    "</tr>\n",
    "<tr>\n",
    "<td>Feb</td>\n",
    "<td>27000</td>\n",
    "<td>Winter</td>\n",
    "</tr>\n",
    "<tr>\n",
    "<td>Mar</td>\n",
    "<td>25000</td>\n",
    "<td>Spring</td>\n",
    "</tr>\n",
    "<tr>\n",
    "<td>Apr</td>\n",
    "<td>29000</td>\n",
    "<td>Spring</td>\n",
    "</tr>\n",
    "<tr>\n",
    "<td>May</td>\n",
    "<td>35000</td>\n",
    "<td>Spring</td>\n",
    "</tr>\n",
    "<tr>\n",
    "<td>June</td>\n",
    "<td>67000</td>\n",
    "<td>Summer</td>\n",
    "</tr>\n",
    "<tr>\n",
    "<td>July</td>\n",
    "<td>78000</td>\n",
    "<td>Summer</td>\n",
    "</tr>\n",
    "<tr>\n",
    "<td>Aug</td>\n",
    "<td>67000</td>\n",
    "<td>Summer</td>\n",
    "</tr>\n",
    "<tr>\n",
    "<td>Sep</td>\n",
    "<td>56000</td>\n",
    "<td>Fall</td>\n",
    "</tr>\n",
    "<tr>\n",
    "<td>Oct</td>\n",
    "<td>56000</td>\n",
    "<td>Fall</td>\n",
    "</tr>\n",
    "<tr>\n",
    "<td>Nov</td>\n",
    "<td>56000</td>\n",
    "<td>Fall</td>\n",
    "</tr>\n",
    "<tr>\n",
    "<td>Dec</td>\n",
    "<td>60000</td>\n",
    "<td>Winter</td>\n",
    "</tr>\n",
    "\n",
    "</table>"
   ]
  },
  {
   "cell_type": "code",
   "execution_count": 44,
   "metadata": {},
   "outputs": [
    {
     "data": {
      "text/html": [
       "<div>\n",
       "<style scoped>\n",
       "    .dataframe tbody tr th:only-of-type {\n",
       "        vertical-align: middle;\n",
       "    }\n",
       "\n",
       "    .dataframe tbody tr th {\n",
       "        vertical-align: top;\n",
       "    }\n",
       "\n",
       "    .dataframe thead th {\n",
       "        text-align: right;\n",
       "    }\n",
       "</style>\n",
       "<table border=\"1\" class=\"dataframe\">\n",
       "  <thead>\n",
       "    <tr style=\"text-align: right;\">\n",
       "      <th></th>\n",
       "      <th>Month</th>\n",
       "      <th>Sales</th>\n",
       "      <th>Seasons</th>\n",
       "    </tr>\n",
       "  </thead>\n",
       "  <tbody>\n",
       "    <tr>\n",
       "      <th>0</th>\n",
       "      <td>Jan</td>\n",
       "      <td>22000</td>\n",
       "      <td>Winter</td>\n",
       "    </tr>\n",
       "    <tr>\n",
       "      <th>1</th>\n",
       "      <td>Feb</td>\n",
       "      <td>27000</td>\n",
       "      <td>Winter</td>\n",
       "    </tr>\n",
       "    <tr>\n",
       "      <th>2</th>\n",
       "      <td>Mar</td>\n",
       "      <td>25000</td>\n",
       "      <td>Spring</td>\n",
       "    </tr>\n",
       "    <tr>\n",
       "      <th>3</th>\n",
       "      <td>Apr</td>\n",
       "      <td>29000</td>\n",
       "      <td>Spring</td>\n",
       "    </tr>\n",
       "    <tr>\n",
       "      <th>4</th>\n",
       "      <td>May</td>\n",
       "      <td>35000</td>\n",
       "      <td>Spring</td>\n",
       "    </tr>\n",
       "    <tr>\n",
       "      <th>5</th>\n",
       "      <td>June</td>\n",
       "      <td>67000</td>\n",
       "      <td>Summer</td>\n",
       "    </tr>\n",
       "    <tr>\n",
       "      <th>6</th>\n",
       "      <td>July</td>\n",
       "      <td>78000</td>\n",
       "      <td>Summer</td>\n",
       "    </tr>\n",
       "    <tr>\n",
       "      <th>7</th>\n",
       "      <td>Aug</td>\n",
       "      <td>67000</td>\n",
       "      <td>Summer</td>\n",
       "    </tr>\n",
       "    <tr>\n",
       "      <th>8</th>\n",
       "      <td>Sep</td>\n",
       "      <td>56000</td>\n",
       "      <td>Fall</td>\n",
       "    </tr>\n",
       "    <tr>\n",
       "      <th>9</th>\n",
       "      <td>Oct</td>\n",
       "      <td>56000</td>\n",
       "      <td>Fall</td>\n",
       "    </tr>\n",
       "    <tr>\n",
       "      <th>10</th>\n",
       "      <td>Nov</td>\n",
       "      <td>56000</td>\n",
       "      <td>Fall</td>\n",
       "    </tr>\n",
       "    <tr>\n",
       "      <th>11</th>\n",
       "      <td>Dec</td>\n",
       "      <td>60000</td>\n",
       "      <td>Winter</td>\n",
       "    </tr>\n",
       "  </tbody>\n",
       "</table>\n",
       "</div>"
      ],
      "text/plain": [
       "   Month  Sales Seasons\n",
       "0    Jan  22000  Winter\n",
       "1    Feb  27000  Winter\n",
       "2    Mar  25000  Spring\n",
       "3    Apr  29000  Spring\n",
       "4    May  35000  Spring\n",
       "5   June  67000  Summer\n",
       "6   July  78000  Summer\n",
       "7    Aug  67000  Summer\n",
       "8    Sep  56000    Fall\n",
       "9    Oct  56000    Fall\n",
       "10   Nov  56000    Fall\n",
       "11   Dec  60000  Winter"
      ]
     },
     "execution_count": 44,
     "metadata": {},
     "output_type": "execute_result"
    }
   ],
   "source": [
    "#Creating a dictionary called \"sales_trend\"\n",
    "sales_trend = {\n",
    "       \"Month\":[\"Jan\",\"Feb\",\"Mar\",\"Apr\",\"May\",\"June\",\"July\",\"Aug\",\"Sep\",\"Oct\",\"Nov\",\"Dec\"],\n",
    "       \"Sales\":[22000,27000,25000,29000,35000,67000,78000,67000,56000,56000,56000,60000],\n",
    "       \"Seasons\":[\"Winter\",\"Winter\",\"Spring\",\"Spring\",\"Spring\",\"Summer\",\"Summer\",\"Summer\",\"Fall\",\"Fall\",\"Fall\",\"Winter\"]\n",
    "}\n",
    "\n",
    "#Passing the dictionary created above as an input of the dataframe called \"df12_3\" (with 12 rows and 3 columns)\n",
    "df12_3 = pd.DataFrame(sales_trend)\n",
    "\n",
    "#Prints the dataframe (i.e., df12_3) output which is created using the dictionary (i.e., sales_trend)\n",
    "df12_3"
   ]
  },
  {
   "cell_type": "code",
   "execution_count": 45,
   "metadata": {},
   "outputs": [
    {
     "data": {
      "text/html": [
       "<div>\n",
       "<style scoped>\n",
       "    .dataframe tbody tr th:only-of-type {\n",
       "        vertical-align: middle;\n",
       "    }\n",
       "\n",
       "    .dataframe tbody tr th {\n",
       "        vertical-align: top;\n",
       "    }\n",
       "\n",
       "    .dataframe thead th {\n",
       "        text-align: right;\n",
       "    }\n",
       "</style>\n",
       "<table border=\"1\" class=\"dataframe\">\n",
       "  <thead>\n",
       "    <tr style=\"text-align: right;\">\n",
       "      <th></th>\n",
       "      <th>count</th>\n",
       "      <th>mean</th>\n",
       "      <th>std</th>\n",
       "      <th>min</th>\n",
       "      <th>25%</th>\n",
       "      <th>50%</th>\n",
       "      <th>75%</th>\n",
       "      <th>max</th>\n",
       "    </tr>\n",
       "    <tr>\n",
       "      <th>Seasons</th>\n",
       "      <th></th>\n",
       "      <th></th>\n",
       "      <th></th>\n",
       "      <th></th>\n",
       "      <th></th>\n",
       "      <th></th>\n",
       "      <th></th>\n",
       "      <th></th>\n",
       "    </tr>\n",
       "  </thead>\n",
       "  <tbody>\n",
       "    <tr>\n",
       "      <th>Fall</th>\n",
       "      <td>3.0</td>\n",
       "      <td>56000.000000</td>\n",
       "      <td>0.000000</td>\n",
       "      <td>56000.0</td>\n",
       "      <td>56000.0</td>\n",
       "      <td>56000.0</td>\n",
       "      <td>56000.0</td>\n",
       "      <td>56000.0</td>\n",
       "    </tr>\n",
       "    <tr>\n",
       "      <th>Spring</th>\n",
       "      <td>3.0</td>\n",
       "      <td>29666.666667</td>\n",
       "      <td>5033.222957</td>\n",
       "      <td>25000.0</td>\n",
       "      <td>27000.0</td>\n",
       "      <td>29000.0</td>\n",
       "      <td>32000.0</td>\n",
       "      <td>35000.0</td>\n",
       "    </tr>\n",
       "    <tr>\n",
       "      <th>Summer</th>\n",
       "      <td>3.0</td>\n",
       "      <td>70666.666667</td>\n",
       "      <td>6350.852961</td>\n",
       "      <td>67000.0</td>\n",
       "      <td>67000.0</td>\n",
       "      <td>67000.0</td>\n",
       "      <td>72500.0</td>\n",
       "      <td>78000.0</td>\n",
       "    </tr>\n",
       "    <tr>\n",
       "      <th>Winter</th>\n",
       "      <td>3.0</td>\n",
       "      <td>36333.333333</td>\n",
       "      <td>20647.840888</td>\n",
       "      <td>22000.0</td>\n",
       "      <td>24500.0</td>\n",
       "      <td>27000.0</td>\n",
       "      <td>43500.0</td>\n",
       "      <td>60000.0</td>\n",
       "    </tr>\n",
       "  </tbody>\n",
       "</table>\n",
       "</div>"
      ],
      "text/plain": [
       "         count          mean           std      min      25%      50%  \\\n",
       "Seasons                                                                 \n",
       "Fall       3.0  56000.000000      0.000000  56000.0  56000.0  56000.0   \n",
       "Spring     3.0  29666.666667   5033.222957  25000.0  27000.0  29000.0   \n",
       "Summer     3.0  70666.666667   6350.852961  67000.0  67000.0  67000.0   \n",
       "Winter     3.0  36333.333333  20647.840888  22000.0  24500.0  27000.0   \n",
       "\n",
       "             75%      max  \n",
       "Seasons                    \n",
       "Fall     56000.0  56000.0  \n",
       "Spring   32000.0  35000.0  \n",
       "Summer   72500.0  78000.0  \n",
       "Winter   43500.0  60000.0  "
      ]
     },
     "execution_count": 45,
     "metadata": {},
     "output_type": "execute_result"
    }
   ],
   "source": [
    "#Grouping the records based on \"Season\" feature and applying the .describe() function on \"Sales\" Feature\n",
    "df12_3.groupby(by='Seasons')['Sales'].describe()"
   ]
  },
  {
   "cell_type": "markdown",
   "metadata": {},
   "source": [
    "#### Inferences:\n",
    "\n",
    "The statistical measure is calculated using the describe function, which by default provides the stats. measure only for numerical data. However, we can get the descriptive stats. for all types (i.e., numerical and categorical) of features by using .describe(include=\"all\").\n",
    "\n",
    "In the above example, the \"Seasons\" feature is grouped using .groupby(by=\"\") and the .describe() method is applied on the \"Sales\" feature (i.e., numerical columns) to find the descriptive statistics of the sales for each season."
   ]
  },
  {
   "cell_type": "markdown",
   "metadata": {},
   "source": [
    "### 11. Combine the new column age in the below data frame "
   ]
  },
  {
   "cell_type": "markdown",
   "metadata": {},
   "source": [
    "**Use the data frame given below:**\n",
    "   \n",
    "<table>\n",
    "<tr>\n",
    "<th>Name</th>\n",
    "<th>Maths</th>\n",
    "<th>Science</th>\n",
    "<th>English</th>\n",
    "</tr>\n",
    "<tr>\n",
    "<td>Emma</td>\n",
    "<td>56</td>\n",
    "<td>89</td>\n",
    "<td>89</td>\n",
    "</tr>\n",
    "<tr>\n",
    "<td>Mia</td>\n",
    "<td>78</td>\n",
    "<td>87</td>\n",
    "<td>89</td>\n",
    "</tr>\n",
    "<tr>\n",
    "<td>Sophia</td>\n",
    "<td>78</td>\n",
    "<td>78</td>\n",
    "<td>76</td>\n",
    "</tr>\n",
    "<tr>\n",
    "<td>James</td>\n",
    "<td>67</td>\n",
    "<td>89</td>\n",
    "<td>78</td>\n",
    "</tr>\n",
    "<td>John</td>\n",
    "<td>88</td>\n",
    "<td>78</td>\n",
    "<td>87</td>\n",
    "</tr>\n",
    "   \n",
    "</table>"
   ]
  },
  {
   "cell_type": "code",
   "execution_count": 49,
   "metadata": {},
   "outputs": [
    {
     "data": {
      "text/html": [
       "<div>\n",
       "<style scoped>\n",
       "    .dataframe tbody tr th:only-of-type {\n",
       "        vertical-align: middle;\n",
       "    }\n",
       "\n",
       "    .dataframe tbody tr th {\n",
       "        vertical-align: top;\n",
       "    }\n",
       "\n",
       "    .dataframe thead th {\n",
       "        text-align: right;\n",
       "    }\n",
       "</style>\n",
       "<table border=\"1\" class=\"dataframe\">\n",
       "  <thead>\n",
       "    <tr style=\"text-align: right;\">\n",
       "      <th></th>\n",
       "      <th>Name</th>\n",
       "      <th>Maths</th>\n",
       "      <th>Science</th>\n",
       "      <th>English</th>\n",
       "    </tr>\n",
       "  </thead>\n",
       "  <tbody>\n",
       "    <tr>\n",
       "      <th>0</th>\n",
       "      <td>Emma</td>\n",
       "      <td>56</td>\n",
       "      <td>89</td>\n",
       "      <td>89</td>\n",
       "    </tr>\n",
       "    <tr>\n",
       "      <th>1</th>\n",
       "      <td>Mia</td>\n",
       "      <td>78</td>\n",
       "      <td>87</td>\n",
       "      <td>89</td>\n",
       "    </tr>\n",
       "    <tr>\n",
       "      <th>2</th>\n",
       "      <td>Sophia</td>\n",
       "      <td>78</td>\n",
       "      <td>78</td>\n",
       "      <td>76</td>\n",
       "    </tr>\n",
       "    <tr>\n",
       "      <th>3</th>\n",
       "      <td>James</td>\n",
       "      <td>67</td>\n",
       "      <td>89</td>\n",
       "      <td>78</td>\n",
       "    </tr>\n",
       "    <tr>\n",
       "      <th>4</th>\n",
       "      <td>John</td>\n",
       "      <td>88</td>\n",
       "      <td>78</td>\n",
       "      <td>87</td>\n",
       "    </tr>\n",
       "  </tbody>\n",
       "</table>\n",
       "</div>"
      ],
      "text/plain": [
       "     Name  Maths  Science  English\n",
       "0    Emma     56       89       89\n",
       "1     Mia     78       87       89\n",
       "2  Sophia     78       78       76\n",
       "3   James     67       89       78\n",
       "4    John     88       78       87"
      ]
     },
     "execution_count": 49,
     "metadata": {},
     "output_type": "execute_result"
    }
   ],
   "source": [
    "#Creating a dictionary called \"student_marks\"\n",
    "student_marks = {\n",
    "    'Name':['Emma','Mia','Sophia','James','John'],\n",
    "    'Maths':[56,78,78,67,88],\n",
    "    'Science':[89,87,78,89,78],\n",
    "    'English':[89,89,76,78,87]\n",
    "}\n",
    "\n",
    "#Passing the dictionary created above as an input of the dataframe called \"df54\" (with 5 rows and 4 columns)\n",
    "student_db = pd.DataFrame(student_marks)\n",
    "\n",
    "#Prints the dataframe (i.e., student_db) output which is created using the dictionary (i.e., student_marks)\n",
    "student_db"
   ]
  },
  {
   "cell_type": "code",
   "execution_count": 50,
   "metadata": {},
   "outputs": [
    {
     "data": {
      "text/html": [
       "<div>\n",
       "<style scoped>\n",
       "    .dataframe tbody tr th:only-of-type {\n",
       "        vertical-align: middle;\n",
       "    }\n",
       "\n",
       "    .dataframe tbody tr th {\n",
       "        vertical-align: top;\n",
       "    }\n",
       "\n",
       "    .dataframe thead th {\n",
       "        text-align: right;\n",
       "    }\n",
       "</style>\n",
       "<table border=\"1\" class=\"dataframe\">\n",
       "  <thead>\n",
       "    <tr style=\"text-align: right;\">\n",
       "      <th></th>\n",
       "      <th>Name</th>\n",
       "      <th>Maths</th>\n",
       "      <th>Science</th>\n",
       "      <th>English</th>\n",
       "      <th>Age</th>\n",
       "    </tr>\n",
       "  </thead>\n",
       "  <tbody>\n",
       "    <tr>\n",
       "      <th>0</th>\n",
       "      <td>Emma</td>\n",
       "      <td>56</td>\n",
       "      <td>89</td>\n",
       "      <td>89</td>\n",
       "      <td>15</td>\n",
       "    </tr>\n",
       "    <tr>\n",
       "      <th>1</th>\n",
       "      <td>Mia</td>\n",
       "      <td>78</td>\n",
       "      <td>87</td>\n",
       "      <td>89</td>\n",
       "      <td>16</td>\n",
       "    </tr>\n",
       "    <tr>\n",
       "      <th>2</th>\n",
       "      <td>Sophia</td>\n",
       "      <td>78</td>\n",
       "      <td>78</td>\n",
       "      <td>76</td>\n",
       "      <td>15</td>\n",
       "    </tr>\n",
       "    <tr>\n",
       "      <th>3</th>\n",
       "      <td>James</td>\n",
       "      <td>67</td>\n",
       "      <td>89</td>\n",
       "      <td>78</td>\n",
       "      <td>15</td>\n",
       "    </tr>\n",
       "    <tr>\n",
       "      <th>4</th>\n",
       "      <td>John</td>\n",
       "      <td>88</td>\n",
       "      <td>78</td>\n",
       "      <td>87</td>\n",
       "      <td>16</td>\n",
       "    </tr>\n",
       "  </tbody>\n",
       "</table>\n",
       "</div>"
      ],
      "text/plain": [
       "     Name  Maths  Science  English  Age\n",
       "0    Emma     56       89       89   15\n",
       "1     Mia     78       87       89   16\n",
       "2  Sophia     78       78       76   15\n",
       "3   James     67       89       78   15\n",
       "4    John     88       78       87   16"
      ]
     },
     "execution_count": 50,
     "metadata": {},
     "output_type": "execute_result"
    }
   ],
   "source": [
    "#Creating a dictionary called \"student_age\"\n",
    "student_age = {'Emma': 15 , 'Mia':16 , 'Sophia':15 , 'James': 15 ,'John': 16}\n",
    "\n",
    "#Mapping the \"value\" (i.e., Age) of custom dictionary based on the look-up \"key\" (i.e., Name) to a new feature called as \"Age\"\n",
    "student_db['Age'] = student_db[\"Name\"].map(student_age)\n",
    "\n",
    "#Prints the dataframe (i.e., student_db) output which is created using the dictionary (i.e., student_marks) \n",
    "                            #along with the \"Age\" mapped from another dictionary (i.e., student_age)\n",
    "student_db"
   ]
  },
  {
   "cell_type": "markdown",
   "metadata": {},
   "source": [
    "#### Inferences:\n",
    "\n",
    "The new dataframe called \"student_db\" is created using the dictionary 1 - \"student_marks\", which is then mapped to dictionary 2 - \"student_age\" using the \"Name\" key value, to store the student age in a new column / feature called as \"Age\"."
   ]
  },
  {
   "cell_type": "markdown",
   "metadata": {},
   "source": [
    "### 12.Concatenate two data frames along with the columns"
   ]
  },
  {
   "cell_type": "markdown",
   "metadata": {},
   "source": [
    "**Use the data frame given below:**\n",
    "   \n",
    "<table>\n",
    "<tr>\n",
    "<th>ID</th>\n",
    "<th>Name</th>\n",
    "<th>Subject</th>\n",
    "</tr>\n",
    "<tr>\n",
    "<td>101</td>\n",
    "<td>Alex</td>\n",
    "<td>Maths</td>\n",
    "</tr>\n",
    "<tr>\n",
    "<td>102</td>\n",
    "<td>Amy</td>\n",
    "<td>English</td>\n",
    "</tr>\n",
    "<tr>\n",
    "<td>103</td>\n",
    "<td>Allen</td>\n",
    "<td>Science</td>\n",
    "</tr>\n",
    "<tr>\n",
    "<td>104</td>\n",
    "<td>Alice</td>\n",
    "<td>German</td>\n",
    "</tr>\n",
    "<td>105</td>\n",
    "<td>Ayoung</td>\n",
    "<td>History</td>\n",
    "</tr>\n",
    "   \n",
    "</table><br>\n",
    "\n",
    "\n",
    "\n",
    "<table>\n",
    "<tr>\n",
    "<th>ID</th>\n",
    "<th>Name</th>\n",
    "<th>Subject</th>\n",
    "</tr>\n",
    "<tr>\n",
    "<td>101</td>\n",
    "<td>Billy</td>\n",
    "<td>English</td>\n",
    "</tr>\n",
    "<tr>\n",
    "<td>102</td>\n",
    "<td>Brian</td>\n",
    "<td>Science</td>\n",
    "</tr>\n",
    "<tr>\n",
    "<td>103</td>\n",
    "<td>Bran</td>\n",
    "<td>Social Science</td>\n",
    "</tr>\n",
    "<tr>\n",
    "<td>104</td>\n",
    "<td>Bryce</td>\n",
    "<td>German</td>\n",
    "</tr>\n",
    "<td>105</td>\n",
    "<td>Betty</td>\n",
    "<td>History</td>\n",
    "</tr>\n",
    "   \n",
    "</table> "
   ]
  },
  {
   "cell_type": "code",
   "execution_count": 55,
   "metadata": {},
   "outputs": [
    {
     "data": {
      "text/html": [
       "<div>\n",
       "<style scoped>\n",
       "    .dataframe tbody tr th:only-of-type {\n",
       "        vertical-align: middle;\n",
       "    }\n",
       "\n",
       "    .dataframe tbody tr th {\n",
       "        vertical-align: top;\n",
       "    }\n",
       "\n",
       "    .dataframe thead th {\n",
       "        text-align: right;\n",
       "    }\n",
       "</style>\n",
       "<table border=\"1\" class=\"dataframe\">\n",
       "  <thead>\n",
       "    <tr style=\"text-align: right;\">\n",
       "      <th></th>\n",
       "      <th>ID</th>\n",
       "      <th>Name</th>\n",
       "      <th>Subject</th>\n",
       "    </tr>\n",
       "  </thead>\n",
       "  <tbody>\n",
       "    <tr>\n",
       "      <th>0</th>\n",
       "      <td>101</td>\n",
       "      <td>Alex</td>\n",
       "      <td>Maths</td>\n",
       "    </tr>\n",
       "    <tr>\n",
       "      <th>1</th>\n",
       "      <td>102</td>\n",
       "      <td>Amy</td>\n",
       "      <td>English</td>\n",
       "    </tr>\n",
       "    <tr>\n",
       "      <th>2</th>\n",
       "      <td>103</td>\n",
       "      <td>Allen</td>\n",
       "      <td>Science</td>\n",
       "    </tr>\n",
       "    <tr>\n",
       "      <th>3</th>\n",
       "      <td>104</td>\n",
       "      <td>Alice</td>\n",
       "      <td>German</td>\n",
       "    </tr>\n",
       "    <tr>\n",
       "      <th>4</th>\n",
       "      <td>105</td>\n",
       "      <td>Ayoung</td>\n",
       "      <td>History</td>\n",
       "    </tr>\n",
       "  </tbody>\n",
       "</table>\n",
       "</div>"
      ],
      "text/plain": [
       "    ID    Name  Subject\n",
       "0  101    Alex    Maths\n",
       "1  102     Amy  English\n",
       "2  103   Allen  Science\n",
       "3  104   Alice   German\n",
       "4  105  Ayoung  History"
      ]
     },
     "execution_count": 55,
     "metadata": {},
     "output_type": "execute_result"
    }
   ],
   "source": [
    "#Creating a dictionary called \"dictionary_1\"\n",
    "dictionary_1 = {\n",
    "    'ID':[101,102,103,104,105],\n",
    "    'Name':['Alex','Amy','Allen','Alice','Ayoung'],\n",
    "    'Subject':['Maths','English','Science','German','History']\n",
    "}\n",
    "\n",
    "#Passing the dictionary created above as an input of the dataframe called \"df_1\" (with 5 rows and 3 columns)\n",
    "df_1 = pd.DataFrame(dictionary_1)\n",
    "\n",
    "#Prints the dataframe (i.e., df_1) output which is created using the dictionary (i.e., dictionary_1)\n",
    "df_1"
   ]
  },
  {
   "cell_type": "code",
   "execution_count": 53,
   "metadata": {},
   "outputs": [
    {
     "data": {
      "text/html": [
       "<div>\n",
       "<style scoped>\n",
       "    .dataframe tbody tr th:only-of-type {\n",
       "        vertical-align: middle;\n",
       "    }\n",
       "\n",
       "    .dataframe tbody tr th {\n",
       "        vertical-align: top;\n",
       "    }\n",
       "\n",
       "    .dataframe thead th {\n",
       "        text-align: right;\n",
       "    }\n",
       "</style>\n",
       "<table border=\"1\" class=\"dataframe\">\n",
       "  <thead>\n",
       "    <tr style=\"text-align: right;\">\n",
       "      <th></th>\n",
       "      <th>ID</th>\n",
       "      <th>Name</th>\n",
       "      <th>Subject</th>\n",
       "    </tr>\n",
       "  </thead>\n",
       "  <tbody>\n",
       "    <tr>\n",
       "      <th>0</th>\n",
       "      <td>101</td>\n",
       "      <td>Billy</td>\n",
       "      <td>English</td>\n",
       "    </tr>\n",
       "    <tr>\n",
       "      <th>1</th>\n",
       "      <td>102</td>\n",
       "      <td>Brian</td>\n",
       "      <td>Science</td>\n",
       "    </tr>\n",
       "    <tr>\n",
       "      <th>2</th>\n",
       "      <td>103</td>\n",
       "      <td>Bran</td>\n",
       "      <td>Social Science</td>\n",
       "    </tr>\n",
       "    <tr>\n",
       "      <th>3</th>\n",
       "      <td>104</td>\n",
       "      <td>Bryce</td>\n",
       "      <td>German</td>\n",
       "    </tr>\n",
       "    <tr>\n",
       "      <th>4</th>\n",
       "      <td>105</td>\n",
       "      <td>Betty</td>\n",
       "      <td>History</td>\n",
       "    </tr>\n",
       "  </tbody>\n",
       "</table>\n",
       "</div>"
      ],
      "text/plain": [
       "    ID   Name         Subject\n",
       "0  101  Billy         English\n",
       "1  102  Brian         Science\n",
       "2  103   Bran  Social Science\n",
       "3  104  Bryce          German\n",
       "4  105  Betty         History"
      ]
     },
     "execution_count": 53,
     "metadata": {},
     "output_type": "execute_result"
    }
   ],
   "source": [
    "#Creating a dictionary called \"dictionary_2\"\n",
    "dictionary_2 = {\n",
    "    'ID':[101,102,103,104,105],\n",
    "    'Name':['Billy','Brian','Bran','Bryce','Betty'],\n",
    "    'Subject':['English','Science','Social Science','German','History']\n",
    "}\n",
    "\n",
    "#Passing the dictionary created above as an input of the dataframe called \"df_2\" (with 5 rows and 3 columns)\n",
    "df_2 = pd.DataFrame(dictionary_2)\n",
    "\n",
    "#Prints the dataframe (i.e., df_2) output which is created using the dictionary (i.e., dictionary_2)\n",
    "df_2"
   ]
  },
  {
   "cell_type": "code",
   "execution_count": 54,
   "metadata": {},
   "outputs": [
    {
     "data": {
      "text/html": [
       "<div>\n",
       "<style scoped>\n",
       "    .dataframe tbody tr th:only-of-type {\n",
       "        vertical-align: middle;\n",
       "    }\n",
       "\n",
       "    .dataframe tbody tr th {\n",
       "        vertical-align: top;\n",
       "    }\n",
       "\n",
       "    .dataframe thead th {\n",
       "        text-align: right;\n",
       "    }\n",
       "</style>\n",
       "<table border=\"1\" class=\"dataframe\">\n",
       "  <thead>\n",
       "    <tr style=\"text-align: right;\">\n",
       "      <th></th>\n",
       "      <th>ID</th>\n",
       "      <th>Name</th>\n",
       "      <th>Subject</th>\n",
       "    </tr>\n",
       "  </thead>\n",
       "  <tbody>\n",
       "    <tr>\n",
       "      <th>0</th>\n",
       "      <td>101</td>\n",
       "      <td>Alex</td>\n",
       "      <td>Maths</td>\n",
       "    </tr>\n",
       "    <tr>\n",
       "      <th>1</th>\n",
       "      <td>102</td>\n",
       "      <td>Amy</td>\n",
       "      <td>English</td>\n",
       "    </tr>\n",
       "    <tr>\n",
       "      <th>2</th>\n",
       "      <td>103</td>\n",
       "      <td>Allen</td>\n",
       "      <td>Science</td>\n",
       "    </tr>\n",
       "    <tr>\n",
       "      <th>3</th>\n",
       "      <td>104</td>\n",
       "      <td>Alice</td>\n",
       "      <td>German</td>\n",
       "    </tr>\n",
       "    <tr>\n",
       "      <th>4</th>\n",
       "      <td>105</td>\n",
       "      <td>Ayoung</td>\n",
       "      <td>History</td>\n",
       "    </tr>\n",
       "    <tr>\n",
       "      <th>5</th>\n",
       "      <td>101</td>\n",
       "      <td>Billy</td>\n",
       "      <td>English</td>\n",
       "    </tr>\n",
       "    <tr>\n",
       "      <th>6</th>\n",
       "      <td>102</td>\n",
       "      <td>Brian</td>\n",
       "      <td>Science</td>\n",
       "    </tr>\n",
       "    <tr>\n",
       "      <th>7</th>\n",
       "      <td>103</td>\n",
       "      <td>Bran</td>\n",
       "      <td>Social Science</td>\n",
       "    </tr>\n",
       "    <tr>\n",
       "      <th>8</th>\n",
       "      <td>104</td>\n",
       "      <td>Bryce</td>\n",
       "      <td>German</td>\n",
       "    </tr>\n",
       "    <tr>\n",
       "      <th>9</th>\n",
       "      <td>105</td>\n",
       "      <td>Betty</td>\n",
       "      <td>History</td>\n",
       "    </tr>\n",
       "  </tbody>\n",
       "</table>\n",
       "</div>"
      ],
      "text/plain": [
       "    ID    Name         Subject\n",
       "0  101    Alex           Maths\n",
       "1  102     Amy         English\n",
       "2  103   Allen         Science\n",
       "3  104   Alice          German\n",
       "4  105  Ayoung         History\n",
       "5  101   Billy         English\n",
       "6  102   Brian         Science\n",
       "7  103    Bran  Social Science\n",
       "8  104   Bryce          German\n",
       "9  105   Betty         History"
      ]
     },
     "execution_count": 54,
     "metadata": {},
     "output_type": "execute_result"
    }
   ],
   "source": [
    "#Concating both the dataframes (i.e., df_1 and df_2) vertically\n",
    "#Resetting the index (0,1,2,3,4,0,1,2,3,4 ==> 0,1,2,3,4,5,6,7,8,9) using ignore_index =True\n",
    "pd.concat(objs=(df_1,df_2), ignore_index= True)"
   ]
  },
  {
   "cell_type": "markdown",
   "metadata": {},
   "source": [
    "#### Inferences:\n",
    "\n",
    "In the above example, .concat() method is used to concatenate two dataframes (df_1 and df_2) vertically (i.e., axis=0 or\n",
    "column). To avoid having the repeating index for each concatenated dataframes (i.e., the original index), the parameter \"ignore_index= True\" is passed to get a new continuous auto-assigned index (0, 1, 2, ............9)"
   ]
  }
 ],
 "metadata": {
  "colab": {
   "collapsed_sections": [],
   "name": "Pandas - 1 - Questions.ipynb",
   "provenance": []
  },
  "kernelspec": {
   "display_name": "Python 3 (ipykernel)",
   "language": "python",
   "name": "python3"
  },
  "language_info": {
   "codemirror_mode": {
    "name": "ipython",
    "version": 3
   },
   "file_extension": ".py",
   "mimetype": "text/x-python",
   "name": "python",
   "nbconvert_exporter": "python",
   "pygments_lexer": "ipython3",
   "version": "3.9.12"
  }
 },
 "nbformat": 4,
 "nbformat_minor": 1
}
